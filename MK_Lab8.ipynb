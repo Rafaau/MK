{
  "metadata": {
    "kernelspec": {
      "name": "python",
      "display_name": "Python (Pyodide)",
      "language": "python"
    },
    "language_info": {
      "codemirror_mode": {
        "name": "python",
        "version": 3
      },
      "file_extension": ".py",
      "mimetype": "text/x-python",
      "name": "python",
      "nbconvert_exporter": "python",
      "pygments_lexer": "ipython3",
      "version": "3.8"
    }
  },
  "nbformat_minor": 4,
  "nbformat": 4,
  "cells": [
    {
      "cell_type": "code",
      "source": "import numpy as np\nimport tensorflow as tf\nfrom tensorflow.keras.models import Sequential\nfrom tensorflow.keras.layers import SimpleRNN, Dense\n\ndef generate_data_mean(num_samples, seq_length):\n    X = np.random.choice([0, 0.2, 0.4, 0.6, 0.8, 1], size=(num_samples, seq_length, 1))\n    y = np.mean(X, axis=1)\n    return X, y\n\nnum_samples = 30\nseq_length = 20\ninput_dim = 1\noutput_dim = 1\n\nX_train, y_train = generate_data_mean(num_samples, seq_length)\n\nmodel = Sequential()\nmodel.add(SimpleRNN(units=10, input_shape=(seq_length, input_dim)))\nmodel.add(Dense(units=output_dim, activation='linear'))\n\nmodel.compile(optimizer='adam', loss='mean_squared_error', metrics=['mae'])  # Używam średniego błędu bezwzględnego (mae) jako metryki.\n\nmodel.fit(X_train, y_train, epochs=100, batch_size=1, verbose=2)\n\nX_test, y_test = generate_data_mean(5, seq_length)\npredictions = model.predict(X_test)\n\nfor i in range(len(X_test)):\n    print(\"Input:\", X_test[i].flatten())\n    print(\"True Output:\", y_test[i])\n    print(\"Predicted Output:\", predictions[i][0])\n    print(\"\\n\")",
      "metadata": {
        "trusted": true
      },
      "outputs": [
        {
          "ename": "<class 'ModuleNotFoundError'>",
          "evalue": "No module named 'tensorflow'",
          "traceback": [
            "\u001b[0;31m---------------------------------------------------------------------------\u001b[0m",
            "\u001b[0;31mModuleNotFoundError\u001b[0m                       Traceback (most recent call last)",
            "Cell \u001b[0;32mIn[1], line 2\u001b[0m\n\u001b[1;32m      1\u001b[0m \u001b[38;5;28;01mimport\u001b[39;00m \u001b[38;5;21;01mnumpy\u001b[39;00m \u001b[38;5;28;01mas\u001b[39;00m \u001b[38;5;21;01mnp\u001b[39;00m\n\u001b[0;32m----> 2\u001b[0m \u001b[38;5;28;01mimport\u001b[39;00m \u001b[38;5;21;01mtensorflow\u001b[39;00m \u001b[38;5;28;01mas\u001b[39;00m \u001b[38;5;21;01mtf\u001b[39;00m\n\u001b[1;32m      3\u001b[0m \u001b[38;5;28;01mfrom\u001b[39;00m \u001b[38;5;21;01mtensorflow\u001b[39;00m\u001b[38;5;21;01m.\u001b[39;00m\u001b[38;5;21;01mkeras\u001b[39;00m\u001b[38;5;21;01m.\u001b[39;00m\u001b[38;5;21;01mmodels\u001b[39;00m \u001b[38;5;28;01mimport\u001b[39;00m Sequential\n\u001b[1;32m      4\u001b[0m \u001b[38;5;28;01mfrom\u001b[39;00m \u001b[38;5;21;01mtensorflow\u001b[39;00m\u001b[38;5;21;01m.\u001b[39;00m\u001b[38;5;21;01mkeras\u001b[39;00m\u001b[38;5;21;01m.\u001b[39;00m\u001b[38;5;21;01mlayers\u001b[39;00m \u001b[38;5;28;01mimport\u001b[39;00m SimpleRNN, Dense\n",
            "\u001b[0;31mModuleNotFoundError\u001b[0m: No module named 'tensorflow'"
          ],
          "output_type": "error"
        }
      ],
      "execution_count": 1
    }
  ]
}