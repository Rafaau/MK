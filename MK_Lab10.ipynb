{
  "metadata": {
    "kernelspec": {
      "name": "python",
      "display_name": "Python (Pyodide)",
      "language": "python"
    },
    "language_info": {
      "codemirror_mode": {
        "name": "python",
        "version": 3
      },
      "file_extension": ".py",
      "mimetype": "text/x-python",
      "name": "python",
      "nbconvert_exporter": "python",
      "pygments_lexer": "ipython3",
      "version": "3.8"
    }
  },
  "nbformat_minor": 4,
  "nbformat": 4,
  "cells": [
    {
      "cell_type": "code",
      "source": "import numpy as np\nimport matplotlib.pyplot as plt\nfrom matplotlib import rcParams\nimport pandas as pd\n\nrcParams.update({'font.size': 18})\nplt.rcParams['figure.figsize'] = [8, 16]\n\ndef DMD(X, Xprime, r):\n    U, Sigma, VT = np.linalg.svd(X, full_matrices=0)  # Step 1\n    Ur = U[:, :r]\n    Sigmar = np.diag(Sigma[:r])\n    VTr = VT[:r, :]\n    Atilde = np.linalg.solve(Sigmar.T, (Ur.T @ Xprime @ VTr.T).T).T  # Step 2\n    Lambda, W = np.linalg.eig(Atilde)  # Step 3\n    Lambda = np.diag(Lambda)\n    Phi = Xprime @ np.linalg.solve(Sigmar.T, VTr).T @ W  # Step 4\n    alpha1 = Sigmar @ VTr[:, 0]\n    b = np.linalg.solve(W @ Lambda, alpha1)\n    return Phi, Lambda, b\n\n# Load matrices from CSV files\nX = pd.read_csv('War11_X.csv', header=None, sep=';').select_dtypes(include=[np.number]).to_numpy()\nXprime = pd.read_csv('War11_Xprime.csv', header=None, sep=';').select_dtypes(include=[np.number]).to_numpy()\n\n# Call the DMD function with your matrices\nPhi, Lambda, b = DMD(X[:, :-1], X[:, 1:], 21)\n\n# Debugging print statements\nprint(\"Shape of Phi:\", Phi.shape)\nprint(\"Lambda:\")\nfor row in Lambda:\n    print([f\"{entry.real}+{entry.imag}j\" for entry in row])\nprint(\"Shape of X[:, 1:]:\", X[:, 1:].shape)\n\n# Modify the reshape operation based on the actual structure of Phi\nV2 = np.real(Phi[:, 0][:199])\n\n# Plot the histogram\nplt.hist(V2.reshape(-1), 128)\nplt.show()",
      "metadata": {
        "trusted": true
      },
      "outputs": [],
      "execution_count": null
    }
  ]
}