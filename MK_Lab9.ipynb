{
  "metadata": {
    "kernelspec": {
      "name": "python",
      "display_name": "Python (Pyodide)",
      "language": "python"
    },
    "language_info": {
      "codemirror_mode": {
        "name": "python",
        "version": 3
      },
      "file_extension": ".py",
      "mimetype": "text/x-python",
      "name": "python",
      "nbconvert_exporter": "python",
      "pygments_lexer": "ipython3",
      "version": "3.8"
    }
  },
  "nbformat_minor": 4,
  "nbformat": 4,
  "cells": [
    {
      "cell_type": "code",
      "source": "import tensorflow as tf\nimport numpy as np\n\ndef generate_data(num_samples=1000, num_bits=15):\n    X = np.random.randint(0, 2, size=(num_samples, 16, 2))\n    Y = np.abs(X[:, :, 0] - X[:, :, 1])\n    \n    X = X[:, :num_bits, :]\n    Y = np.abs(X[:, :, 0] - X[:, :, 1])\n    \n    return X, Y\n\nmodel = tf.keras.Sequential([\n    tf.keras.layers.SimpleRNN(8, input_shape=(15, 2), activation='relu', return_sequences=True),\n    tf.keras.layers.SimpleRNN(8, activation='relu'),\n    tf.keras.layers.Dense(15, activation='sigmoid')\n])\n\nmodel.compile(optimizer='adam', loss='mean_squared_error', metrics=['mae'])\n\nX_train, Y_train = generate_data()\n\nmodel.fit(X_train, Y_train, epochs=10, batch_size=32)\n\nX_test, Y_test = generate_data(10)\npredictions = model.predict(X_test)\n\nfor i in range(10):\n    input_data = X_test[i]\n    true_output = Y_test[i]\n    predicted_output = predictions[i].round()\n    \n    print(f\"Wejscie: {input_data}\")\n    print(f\"Prawdziwa roznica: {true_output}\")\n    print(f\"Przewidziana roznica: {predicted_output}\")\n    print()",
      "metadata": {
        "trusted": true
      },
      "outputs": [],
      "execution_count": null
    }
  ]
}